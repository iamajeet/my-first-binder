{
 "cells": [
  {
   "cell_type": "code",
   "execution_count": 1,
   "id": "2ce23813-e9d0-47e5-9d4e-5818a2a54a5e",
   "metadata": {},
   "outputs": [],
   "source": [
    "#if\n",
    "indian=[\"panir bhujia\", \"aloo paratha\", \"samosa\",\"jalebi\"]\n",
    "italian=[\"pane\", \"pasta\", \"pizza\"]\n",
    "chinese=[\"susi\", \"momos\", \"noodles\"]"
   ]
  },
  {
   "cell_type": "code",
   "execution_count": 2,
   "id": "07b9e4d7-6d69-4c68-a67b-a80fa3843f73",
   "metadata": {},
   "outputs": [
    {
     "name": "stdin",
     "output_type": "stream",
     "text": [
      "Enter dish name :  samosa\n"
     ]
    },
    {
     "name": "stdout",
     "output_type": "stream",
     "text": [
      "It is indian cuisine\n"
     ]
    }
   ],
   "source": [
    "my_dish=input(\"Enter dish name : \")\n",
    "if my_dish in indian:\n",
    "    print(\"It is indian cuisine\")\n",
    "elif my_dish in italian:\n",
    "     print(\"It is italian cuisine\")\n",
    "elif my_dish in chinese:\n",
    "     print(\"It is chinese cuisine\")\n",
    "else:\n",
    "     print(\"It is unknown cuisine\")"
   ]
  },
  {
   "cell_type": "code",
   "execution_count": 3,
   "id": "5d95fcc7-a96e-4f16-bded-01b4ccb70972",
   "metadata": {},
   "outputs": [
    {
     "name": "stdout",
     "output_type": "stream",
     "text": [
      "10059\n"
     ]
    }
   ],
   "source": [
    "#for loop\n",
    "\n",
    "expense=[1245,2345,2423,2823,1223]\n",
    "total=0\n",
    "for i in expense:\n",
    "    total=total+i\n",
    "\n",
    "print(total)"
   ]
  },
  {
   "cell_type": "code",
   "execution_count": 4,
   "id": "f5dfd83d-40b0-4852-8205-e9cdfe3277a2",
   "metadata": {},
   "outputs": [
    {
     "name": "stdout",
     "output_type": "stream",
     "text": [
      "1\n",
      "4\n",
      "9\n",
      "16\n",
      "25\n",
      "36\n",
      "49\n",
      "64\n",
      "81\n",
      "100\n"
     ]
    }
   ],
   "source": [
    "for i in range(1,11):\n",
    "    print(i*i)"
   ]
  },
  {
   "cell_type": "code",
   "execution_count": 5,
   "id": "9a85a15f-6ca7-4f71-80aa-76c2e23926c3",
   "metadata": {},
   "outputs": [
    {
     "name": "stdout",
     "output_type": "stream",
     "text": [
      "Expense in Month 1 is 1245\n",
      "Expense in Month 2 is 2345\n",
      "Expense in Month 3 is 2423\n",
      "Expense in Month 4 is 2823\n",
      "Expense in Month 5 is 1223\n",
      "Total expence in all month is 10059\n"
     ]
    }
   ],
   "source": [
    "expense=[1245,2345,2423,2823,1223]\n",
    "total=0\n",
    "for i in range(len(expense)):\n",
    "    total=total+expense[i]\n",
    "    print(\"Expense in Month \"+str(i+1) +\" is \"+ str(expense[i]))\n",
    "print(\"Total expence in all month is \"+ str(total))"
   ]
  },
  {
   "cell_type": "code",
   "execution_count": 6,
   "id": "6764fd59-3764-42b6-af13-40e0fd730e45",
   "metadata": {},
   "outputs": [
    {
     "name": "stdout",
     "output_type": "stream",
     "text": [
      "Keys not found in bedroom\n",
      "Keys not found in almira\n",
      "We have found the keys\n"
     ]
    }
   ],
   "source": [
    "#break\n",
    "key_location=\"chair\"\n",
    "locations=[\"bedroom\",\"almira\",\"chair\",\"kitchen\",\"drawing room\"]\n",
    "\n",
    "for i in range(len(locations)):\n",
    "    if(key_location==locations[i]):\n",
    "        print(\"We have found the keys\")\n",
    "        break\n",
    "    else:\n",
    "         print(\"Keys not found in \"+locations[i])"
   ]
  },
  {
   "cell_type": "code",
   "execution_count": 7,
   "id": "355d86cb-c831-4986-a2ef-72c9fbb1443d",
   "metadata": {},
   "outputs": [
    {
     "name": "stdout",
     "output_type": "stream",
     "text": [
      "1\n",
      "9\n",
      "25\n"
     ]
    }
   ],
   "source": [
    "#continue skiping\n",
    "for i in range(0,6):\n",
    "    if i%2==0:\n",
    "        continue\n",
    "    print(i*i)"
   ]
  },
  {
   "cell_type": "code",
   "execution_count": 8,
   "id": "40ec9719-153d-4b92-a0fd-fb8a33216b57",
   "metadata": {},
   "outputs": [
    {
     "name": "stdout",
     "output_type": "stream",
     "text": [
      "0\n",
      "1\n",
      "2\n",
      "3\n",
      "4\n",
      "5\n"
     ]
    }
   ],
   "source": [
    "i = 0\n",
    "\n",
    "while i<=5:\n",
    "    print(i)\n",
    "    i=i+1"
   ]
  },
  {
   "cell_type": "code",
   "execution_count": 9,
   "id": "98b9989e-39ee-4856-be9b-17d2344eb204",
   "metadata": {},
   "outputs": [],
   "source": [
    "#function   \n",
    "def calculate_total(exp):\n",
    "    total =0\n",
    "    for item in exp:\n",
    "        total=total+item\n",
    "    return total"
   ]
  },
  {
   "cell_type": "code",
   "execution_count": 10,
   "id": "17ad2615-7c93-4cbe-82e1-459e6dad7ed0",
   "metadata": {},
   "outputs": [],
   "source": [
    "ajeet_expense=[1290,2345,1234,1246]\n",
    "vihaan_expense=[213,322,677,224]"
   ]
  },
  {
   "cell_type": "code",
   "execution_count": 11,
   "id": "04a688b8-69f2-4545-8969-b53992cd953b",
   "metadata": {},
   "outputs": [],
   "source": [
    "total_ajeet_expense= calculate_total(ajeet_expense)\n",
    "total_vihaan_expense= calculate_total(vihaan_expense)"
   ]
  },
  {
   "cell_type": "code",
   "execution_count": 12,
   "id": "185ef4c1-c180-4d64-b19a-d45aa4cbf080",
   "metadata": {},
   "outputs": [
    {
     "name": "stdout",
     "output_type": "stream",
     "text": [
      "Total Ajeet's Expenses :  6115\n",
      "Total Vihaan's Expenses :  1436\n"
     ]
    }
   ],
   "source": [
    "print(\"Total Ajeet's Expenses : \",total_ajeet_expense)\n",
    "print(\"Total Vihaan's Expenses : \",total_vihaan_expense)"
   ]
  },
  {
   "cell_type": "code",
   "execution_count": 13,
   "id": "a1e28daf-73ee-4d29-adf1-4c8ee75591b9",
   "metadata": {},
   "outputs": [],
   "source": [
    "#positional srguments\n",
    "def sum(a,b):\n",
    "    total=a+b\n",
    "    return total"
   ]
  },
  {
   "cell_type": "code",
   "execution_count": 14,
   "id": "554ec51c-43d5-497f-a056-1723886e332a",
   "metadata": {},
   "outputs": [
    {
     "name": "stdout",
     "output_type": "stream",
     "text": [
      "Total :  11\n"
     ]
    }
   ],
   "source": [
    "n=sum(5,6)\n",
    "print(\"Total : \", n)"
   ]
  },
  {
   "cell_type": "code",
   "execution_count": 15,
   "id": "78d57fab-2e57-4148-a473-3438b5312f8b",
   "metadata": {},
   "outputs": [],
   "source": [
    "#named argument\n",
    "def sum(a,b):\n",
    "    total=a+b\n",
    "    return total"
   ]
  },
  {
   "cell_type": "code",
   "execution_count": 16,
   "id": "6e097ebb-d5c1-4b8a-975e-82fd7b758fc0",
   "metadata": {},
   "outputs": [
    {
     "name": "stdout",
     "output_type": "stream",
     "text": [
      "Total :  11\n"
     ]
    }
   ],
   "source": [
    "n=sum(b=5,a=6)\n",
    "print(\"Total : \", n)"
   ]
  },
  {
   "cell_type": "code",
   "execution_count": 17,
   "id": "3610be51-6bf5-4482-a7a9-81971a79e7de",
   "metadata": {},
   "outputs": [
    {
     "name": "stdout",
     "output_type": "stream",
     "text": [
      "Total :  0\n"
     ]
    }
   ],
   "source": [
    "#global variable local variable\n",
    "total=0 #global total\n",
    "def sum(a,b):\n",
    "    total=a+b #local total\n",
    "    return total\n",
    "\n",
    "n=sum(b=5,a=6)\n",
    "print(\"Total : \", total)"
   ]
  },
  {
   "cell_type": "code",
   "execution_count": 18,
   "id": "25d940f3-877b-4f03-9993-519be8968476",
   "metadata": {},
   "outputs": [
    {
     "name": "stdout",
     "output_type": "stream",
     "text": [
      "Total :  5\n"
     ]
    }
   ],
   "source": [
    "#default argument    \n",
    "def sum(a,b=0):\n",
    "    total=a+b\n",
    "    return total\n",
    "\n",
    "n=sum(5)\n",
    "print(\"Total : \",n)"
   ]
  },
  {
   "cell_type": "code",
   "execution_count": 19,
   "id": "beb788ca-6e61-45b9-8599-2ea6865c95e4",
   "metadata": {},
   "outputs": [
    {
     "name": "stdout",
     "output_type": "stream",
     "text": [
      "Total :  11\n"
     ]
    }
   ],
   "source": [
    "#documentation string\n",
    "def sum(a,b=0):\n",
    "    \"\"\"\n",
    "    This function takes two numeric arguments, and returns a sum. \n",
    "    \"\"\"\n",
    "    total=a+b\n",
    "    return total\n",
    "\n",
    "n=sum(5,6)\n",
    "print(\"Total : \",n)"
   ]
  },
  {
   "cell_type": "code",
   "execution_count": 20,
   "id": "665ceeda-c824-43f0-8e2a-03f8ed1ac32c",
   "metadata": {},
   "outputs": [
    {
     "name": "stdout",
     "output_type": "stream",
     "text": [
      "{'ajeet': 9451960110, 'vihaan': 9555226879}\n"
     ]
    }
   ],
   "source": [
    "#dictionary and tuple\n",
    "\n",
    "d={\"ajeet\":9451960110,\"vihaan\":9555226879}\n",
    "print(d)"
   ]
  },
  {
   "cell_type": "code",
   "execution_count": 21,
   "id": "03806c8b-6162-4e9d-a5e2-11535fdc91bc",
   "metadata": {},
   "outputs": [
    {
     "name": "stdout",
     "output_type": "stream",
     "text": [
      "9555226879\n"
     ]
    }
   ],
   "source": [
    "#retrival\n",
    "print(d[\"vihaan\"])"
   ]
  },
  {
   "cell_type": "code",
   "execution_count": 22,
   "id": "d0658d7b-8312-41e2-ab12-2d635746db47",
   "metadata": {},
   "outputs": [],
   "source": [
    "#adding\n",
    "d[\"sonam\"]=9582785572"
   ]
  },
  {
   "cell_type": "code",
   "execution_count": 23,
   "id": "2d61d4a5-33d8-4a5d-b688-82183f80d77d",
   "metadata": {},
   "outputs": [
    {
     "name": "stdout",
     "output_type": "stream",
     "text": [
      "{'ajeet': 9451960110, 'vihaan': 9555226879, 'sonam': 9582785572}\n"
     ]
    }
   ],
   "source": [
    "print(d)"
   ]
  },
  {
   "cell_type": "code",
   "execution_count": 24,
   "id": "ae74d4ed-fd0f-46c7-81b1-f323d5369522",
   "metadata": {},
   "outputs": [
    {
     "name": "stdout",
     "output_type": "stream",
     "text": [
      "Key :  ajeet values :  9451960110\n",
      "Key :  vihaan values :  9555226879\n",
      "Key :  sonam values :  9582785572\n"
     ]
    }
   ],
   "source": [
    "# normal itrate\n",
    "for key in d:\n",
    "    print(\"Key : \", key, \"values : \", d[key] )"
   ]
  },
  {
   "cell_type": "code",
   "execution_count": 25,
   "id": "dfeb7ae3-6e0a-477e-a0a9-67d764157302",
   "metadata": {},
   "outputs": [
    {
     "name": "stdout",
     "output_type": "stream",
     "text": [
      "Key :  ajeet values :  9451960110\n",
      "Key :  vihaan values :  9555226879\n",
      "Key :  sonam values :  9582785572\n"
     ]
    }
   ],
   "source": [
    "# dictionary itrate\n",
    "for k,v in d.items():\n",
    "    print(\"Key : \", k, \"values : \", v )"
   ]
  },
  {
   "cell_type": "code",
   "execution_count": 26,
   "id": "eaba362c-4706-4f19-ab81-e306fa65b561",
   "metadata": {},
   "outputs": [],
   "source": [
    "#deletion\n",
    "del d[\"sonam\"]"
   ]
  },
  {
   "cell_type": "code",
   "execution_count": 27,
   "id": "d423c331-073e-4366-bb48-619b23f809c7",
   "metadata": {},
   "outputs": [
    {
     "name": "stdout",
     "output_type": "stream",
     "text": [
      "{'ajeet': 9451960110, 'vihaan': 9555226879}\n"
     ]
    }
   ],
   "source": [
    "print(d)"
   ]
  },
  {
   "cell_type": "code",
   "execution_count": 28,
   "id": "b14b509f-fab0-437a-b92a-0c26fa7ae516",
   "metadata": {},
   "outputs": [
    {
     "name": "stdout",
     "output_type": "stream",
     "text": [
      "True\n"
     ]
    }
   ],
   "source": [
    "#if exist in dictionary\n",
    "print (\"vihaan\" in d)\n"
   ]
  },
  {
   "cell_type": "code",
   "execution_count": 29,
   "id": "8467d8f3-86da-449f-92a5-cbb711bb5f2b",
   "metadata": {},
   "outputs": [
    {
     "name": "stdout",
     "output_type": "stream",
     "text": [
      "{}\n"
     ]
    }
   ],
   "source": [
    "#clear\n",
    "d.clear()\n",
    "print(d)"
   ]
  },
  {
   "cell_type": "code",
   "execution_count": 30,
   "id": "833c36dc-a304-4913-9989-cbf2f682d42a",
   "metadata": {},
   "outputs": [
    {
     "name": "stdout",
     "output_type": "stream",
     "text": [
      "5\n",
      "abc\n",
      "7.9\n"
     ]
    }
   ],
   "source": [
    "#tuple\n",
    "#NOTE: \n",
    "#list is homogeneous tuple is hetrogenous\n",
    "#list is mutable tuple is not mutable\n",
    "#Example of list and tuple\n",
    "addressTuple=(\"1  street \",\"NYC\", 10001)\n",
    "expenseList=[2011,2334,2241]\n",
    "nameList=[\"Ajeet\",\"Vihaan\",\"Sonam\"]\n",
    "#retrive tuple same like list\n",
    "point=(5,\"abc\",7.9)\n",
    "print(point[0])\n",
    "print(point[1])\n",
    "print(point[2])"
   ]
  },
  {
   "cell_type": "code",
   "execution_count": 31,
   "id": "da038a91-6950-48df-899b-95883f078523",
   "metadata": {},
   "outputs": [
    {
     "data": {
      "text/plain": [
       "('1  street ', 'NYC', 10001)"
      ]
     },
     "execution_count": 31,
     "metadata": {},
     "output_type": "execute_result"
    }
   ],
   "source": [
    "addressTuple"
   ]
  },
  {
   "cell_type": "code",
   "execution_count": 32,
   "id": "903835e0-d0a8-4d93-99de-f76916831d01",
   "metadata": {},
   "outputs": [
    {
     "name": "stdout",
     "output_type": "stream",
     "text": [
      "['__doc__', '__file__', '__loader__', '__name__', '__package__', '__spec__', 'acos', 'acosh', 'asin', 'asinh', 'atan', 'atan2', 'atanh', 'ceil', 'copysign', 'cos', 'cosh', 'degrees', 'e', 'erf', 'erfc', 'exp', 'expm1', 'fabs', 'factorial', 'floor', 'fmod', 'frexp', 'fsum', 'gamma', 'gcd', 'hypot', 'inf', 'isclose', 'isfinite', 'isinf', 'isnan', 'ldexp', 'lgamma', 'log', 'log10', 'log1p', 'log2', 'modf', 'nan', 'pi', 'pow', 'radians', 'remainder', 'sin', 'sinh', 'sqrt', 'tan', 'tanh', 'tau', 'trunc']\n",
      "4.0\n",
      "65536.0\n",
      "0.9999999999999747\n",
      "2.0\n",
      "44\n",
      "45\n",
      "3.141592653589793\n"
     ]
    }
   ],
   "source": [
    "#Modules\n",
    "\n",
    "import math\n",
    "\n",
    "# you can google it with module name \"python math module\"\n",
    "#or\n",
    "#details of math module\n",
    "print(dir(math))\n",
    "print(math.sqrt(16))\n",
    "print(math.pow(16,4))\n",
    "print(math.tanh(16))\n",
    "print(math.log10(100))\n",
    "print(math.floor(44.54))\n",
    "print(math.ceil(44.54))\n",
    "print(math.pi)"
   ]
  },
  {
   "cell_type": "code",
   "execution_count": 33,
   "id": "9b8bf4d4-c9a3-4b99-83f6-073f8c4c8855",
   "metadata": {},
   "outputs": [
    {
     "name": "stdout",
     "output_type": "stream",
     "text": [
      "['Calendar', 'EPOCH', 'FRIDAY', 'February', 'HTMLCalendar', 'IllegalMonthError', 'IllegalWeekdayError', 'January', 'LocaleHTMLCalendar', 'LocaleTextCalendar', 'MONDAY', 'SATURDAY', 'SUNDAY', 'THURSDAY', 'TUESDAY', 'TextCalendar', 'WEDNESDAY', '_EPOCH_ORD', '__all__', '__builtins__', '__cached__', '__doc__', '__file__', '__loader__', '__name__', '__package__', '__spec__', '_colwidth', '_locale', '_localized_day', '_localized_month', '_spacing', 'c', 'calendar', 'datetime', 'day_abbr', 'day_name', 'different_locale', 'error', 'firstweekday', 'format', 'formatstring', 'isleap', 'leapdays', 'main', 'mdays', 'month', 'month_abbr', 'month_name', 'monthcalendar', 'monthlen', 'monthrange', 'nextmonth', 'prcal', 'prevmonth', 'prmonth', 'prweek', 'repeat', 'setfirstweekday', 'sys', 'timegm', 'week', 'weekday', 'weekheader']\n",
      "    January 2022\n",
      "Mo Tu We Th Fr Sa Su\n",
      "                1  2\n",
      " 3  4  5  6  7  8  9\n",
      "10 11 12 13 14 15 16\n",
      "17 18 19 20 21 22 23\n",
      "24 25 26 27 28 29 30\n",
      "31\n",
      "\n",
      "False\n"
     ]
    }
   ],
   "source": [
    "import calendar\n",
    "print(dir(calendar))\n",
    "cal = calendar.month(2022,1)\n",
    "print(cal)\n",
    "print(calendar.isleap(2022))"
   ]
  },
  {
   "cell_type": "code",
   "execution_count": 34,
   "id": "1dada927-90e6-4cab-ad90-b0e311a58370",
   "metadata": {},
   "outputs": [
    {
     "ename": "ModuleNotFoundError",
     "evalue": "No module named 'area'",
     "output_type": "error",
     "traceback": [
      "\u001b[0;31m---------------------------------------------------------------------------\u001b[0m",
      "\u001b[0;31mModuleNotFoundError\u001b[0m                       Traceback (most recent call last)",
      "\u001b[0;32m/tmp/ipykernel_280/4127171285.py\u001b[0m in \u001b[0;36m<module>\u001b[0;34m\u001b[0m\n\u001b[1;32m      8\u001b[0m \u001b[0;34m\u001b[0m\u001b[0m\n\u001b[1;32m      9\u001b[0m \u001b[0;31m#to use the module import the file name in same pacakage\u001b[0m\u001b[0;34m\u001b[0m\u001b[0;34m\u001b[0m\u001b[0;34m\u001b[0m\u001b[0m\n\u001b[0;32m---> 10\u001b[0;31m \u001b[0;32mimport\u001b[0m \u001b[0marea\u001b[0m\u001b[0;34m\u001b[0m\u001b[0;34m\u001b[0m\u001b[0m\n\u001b[0m\u001b[1;32m     11\u001b[0m \u001b[0mprint\u001b[0m\u001b[0;34m(\u001b[0m\u001b[0marea\u001b[0m\u001b[0;34m.\u001b[0m\u001b[0mcal_triangle_area\u001b[0m\u001b[0;34m(\u001b[0m\u001b[0;36m34\u001b[0m\u001b[0;34m,\u001b[0m\u001b[0;36m98\u001b[0m\u001b[0;34m)\u001b[0m\u001b[0;34m)\u001b[0m\u001b[0;34m\u001b[0m\u001b[0;34m\u001b[0m\u001b[0m\n\u001b[1;32m     12\u001b[0m \u001b[0mprint\u001b[0m\u001b[0;34m(\u001b[0m\u001b[0marea\u001b[0m\u001b[0;34m.\u001b[0m\u001b[0mcal_square_area\u001b[0m\u001b[0;34m(\u001b[0m\u001b[0;36m3\u001b[0m\u001b[0;34m)\u001b[0m\u001b[0;34m)\u001b[0m\u001b[0;34m\u001b[0m\u001b[0;34m\u001b[0m\u001b[0m\n",
      "\u001b[0;31mModuleNotFoundError\u001b[0m: No module named 'area'"
     ]
    }
   ],
   "source": [
    "#create own module in saparate file eg \"area.py\"\n",
    "\n",
    "def cal_triangle_area(base,height):\n",
    "    return 1/2*(base*height)\n",
    "def cal_square_area(side):\n",
    "    return side*side\n",
    "    \n",
    "    \n",
    "#to use the module import the file name in same pacakage\n",
    "import area\n",
    "print(area.cal_triangle_area(34,98))\n",
    "print(area.cal_square_area(3))\n",
    "\n",
    "#second way\n",
    "import area as a\n",
    "\n",
    "print(a.cal_triangle_area(34,98))\n",
    "print(a.cal_square_area(3))\n",
    "\n",
    "\n",
    "#if it is module pakage :import module.area\n",
    "import module.area\n",
    "print(area.cal_triangle_area(34,98))\n",
    "print(area.cal_square_area(3))\n",
    "\n",
    "#if it is somewhere else then we have to use sys.path\n",
    "import sys\n",
    "sys.path.append(\"C:/abc\")"
   ]
  },
  {
   "cell_type": "code",
   "execution_count": 35,
   "id": "9c4b8086-84e6-4085-8562-dc3b7c7b2365",
   "metadata": {},
   "outputs": [
    {
     "name": "stdout",
     "output_type": "stream",
     "text": [
      "{'ajeet': {'name': 'ajeet', 'adderess': '1 blue street UP', 'phone': 9555226879}, 'vihaan': {'name': 'vihaan', 'adderess': '1 purple street UP', 'phone': 9452727720}}\n"
     ]
    }
   ],
   "source": [
    "#working with json\n",
    "\n",
    "#dictionary of dictionary\n",
    "book={}\n",
    "book[\"ajeet\"]={\n",
    "    \"name\":\"ajeet\",\n",
    "    \"adderess\":\"1 blue street UP\",\n",
    "    \"phone\":9555226879\n",
    "}\n",
    "\n",
    "book[\"vihaan\"]={\n",
    "    \"name\":\"vihaan\",\n",
    "    \"adderess\":\"1 purple street UP\",\n",
    "    \"phone\":9452727720\n",
    "}\n",
    "\n",
    "\n",
    "print(book)"
   ]
  },
  {
   "cell_type": "code",
   "execution_count": 36,
   "id": "a680164c-7842-4e06-936f-e9bdc07d42e3",
   "metadata": {},
   "outputs": [
    {
     "name": "stdout",
     "output_type": "stream",
     "text": [
      "<class 'str'>\n",
      "{\"ajeet\": {\"name\": \"ajeet\", \"adderess\": \"1 blue street UP\", \"phone\": 9555226879}, \"vihaan\": {\"name\": \"vihaan\", \"adderess\": \"1 purple street UP\", \"phone\": 9452727720}}\n"
     ]
    }
   ],
   "source": [
    "#converting dictionary object to json string\n",
    "import json\n",
    "s= json.dumps(book)\n",
    "print(type(s))\n",
    "print(s)"
   ]
  },
  {
   "cell_type": "code",
   "execution_count": 37,
   "id": "6c9f3ab6-35ec-4441-80c5-9fa545f15fd5",
   "metadata": {},
   "outputs": [
    {
     "name": "stdout",
     "output_type": "stream",
     "text": [
      "<class 'dict'>\n",
      "{'ajeet': {'name': 'ajeet', 'adderess': '1 blue street UP', 'phone': 9555226879}, 'vihaan': {'name': 'vihaan', 'adderess': '1 purple street UP', 'phone': 9452727720}}\n"
     ]
    }
   ],
   "source": [
    "#converting  json string to dictionary object\n",
    "book2 = json.loads(s)\n",
    "print(type(book2))\n",
    "print(book2)\n"
   ]
  },
  {
   "cell_type": "code",
   "execution_count": 38,
   "id": "22ead170-c0ea-44c9-8c2a-b607c25fa649",
   "metadata": {},
   "outputs": [
    {
     "name": "stdout",
     "output_type": "stream",
     "text": [
      "{'name': 'ajeet', 'adderess': '1 blue street UP', 'phone': 9555226879}\n",
      "1 blue street UP\n"
     ]
    }
   ],
   "source": [
    "#reading value from\n",
    "print(book2[\"ajeet\"])\n",
    "print(book2[\"ajeet\"][\"adderess\"])"
   ]
  },
  {
   "cell_type": "code",
   "execution_count": 39,
   "id": "dc58a610-af74-4883-9ef7-78ac2e91c7bb",
   "metadata": {},
   "outputs": [
    {
     "name": "stdout",
     "output_type": "stream",
     "text": [
      "{'name': 'ajeet', 'adderess': '1 blue street UP', 'phone': 9555226879}\n",
      "{'name': 'vihaan', 'adderess': '1 purple street UP', 'phone': 9452727720}\n"
     ]
    }
   ],
   "source": [
    "#reading value from loop\n",
    "for persons in book2:\n",
    "    print(book2[persons])"
   ]
  },
  {
   "cell_type": "code",
   "execution_count": 40,
   "id": "5cf84a05-b3b2-46fd-9b5e-672d7f5bf64f",
   "metadata": {},
   "outputs": [],
   "source": [
    "#Reading and writing files\n",
    "#open statement will open new file for reading or writing\n",
    "f=open(\"friend.txt\",\"w\")\n",
    "f.write(\"i love python\")\n",
    "#it will overwrite the content\n",
    "f.write(\"i love Java\")\n",
    "f.close()"
   ]
  },
  {
   "cell_type": "code",
   "execution_count": 41,
   "id": "62c3eadb-5596-403f-b425-9c714b4891a0",
   "metadata": {},
   "outputs": [],
   "source": [
    "#to append the content change the mode from w to a\n",
    "f=open(\"friend.txt\",\"a\")\n",
    "f.write(\"i love python\")\n",
    "#it will overwrite the content\n",
    "f.write(\"\\ni love Java\")\n",
    "f.close()"
   ]
  },
  {
   "cell_type": "code",
   "execution_count": 42,
   "id": "aaabd34e-bded-4545-8809-a17b5254df6a",
   "metadata": {},
   "outputs": [
    {
     "name": "stdout",
     "output_type": "stream",
     "text": [
      "i love pythoni love Javai love python\n",
      "i love Java\n"
     ]
    }
   ],
   "source": [
    "#Read the file all at one shot\n",
    "f=open(\"friend.txt\",\"r\")\n",
    "print(f.read())\n",
    "f.close()"
   ]
  },
  {
   "cell_type": "code",
   "execution_count": 43,
   "id": "ca334142-1bef-40e6-a7e3-3ceeb6770dd1",
   "metadata": {},
   "outputs": [
    {
     "name": "stdout",
     "output_type": "stream",
     "text": [
      "['i', 'love', 'pythoni', 'love', 'Javai', 'love', 'python\\n']\n",
      "7\n",
      "i love pythoni love Javai love python\n",
      "\n",
      "['i', 'love', 'Java']\n",
      "3\n",
      "i love Java\n"
     ]
    }
   ],
   "source": [
    "#Read the file line by line\n",
    "f=open(\"friend.txt\",\"r\")\n",
    "f_out=open(\"friend.txt_wc.txt\",\"w\")\n",
    "for line in f:\n",
    "    tokens=line.split(\" \")\n",
    "    f_out.write(line+ \"word count: \"+str(len(tokens)))\n",
    "    print(str(tokens))\n",
    "    print(len(tokens))\n",
    "    print(line)\n",
    "f.close()\n",
    "f_out.close()"
   ]
  },
  {
   "cell_type": "code",
   "execution_count": 44,
   "id": "a9c56a87-9f8f-493c-b40f-d5fb5a523096",
   "metadata": {},
   "outputs": [
    {
     "name": "stdout",
     "output_type": "stream",
     "text": [
      "i love pythoni love Javai love python\n",
      "i love Java\n"
     ]
    }
   ],
   "source": [
    "# use with statement along open it will automatically close the file\n",
    "with open(\"friend.txt\",\"r\") as f:\n",
    "    print(f.read())\n"
   ]
  },
  {
   "cell_type": "code",
   "execution_count": null,
   "id": "1fbf2a04-4b21-447f-b2a2-022f3e0dedba",
   "metadata": {},
   "outputs": [],
   "source": []
  }
 ],
 "metadata": {
  "kernelspec": {
   "display_name": "Python 3 (ipykernel)",
   "language": "python",
   "name": "python3"
  },
  "language_info": {
   "codemirror_mode": {
    "name": "ipython",
    "version": 3
   },
   "file_extension": ".py",
   "mimetype": "text/x-python",
   "name": "python",
   "nbconvert_exporter": "python",
   "pygments_lexer": "ipython3",
   "version": "3.7.12"
  }
 },
 "nbformat": 4,
 "nbformat_minor": 5
}
