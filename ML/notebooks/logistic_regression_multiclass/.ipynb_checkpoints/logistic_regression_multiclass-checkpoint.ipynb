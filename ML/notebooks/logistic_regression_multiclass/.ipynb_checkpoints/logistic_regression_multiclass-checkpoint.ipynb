{
 "cells": [
  {
   "cell_type": "markdown",
   "id": "09c2cdc3-24c0-4dfb-83f0-df11cc2441ef",
   "metadata": {},
   "source": [
    "### Problem Statement\n",
    "\n",
    "Use sklearn.datasets iris flower dataset to train your model using logistic regression. You need to figure out accuracy of your model and use that to predict different samples in your test dataset. In iris dataset there are 150 samples containing following features,\n",
    "\n",
    "Sepal Length\n",
    "Sepal Width\n",
    "Petal Length\n",
    "Petal Width\n",
    "Using above 4 features you will clasify a flower in one of the three categories,\n",
    "\n",
    "Setosa\n",
    "Versicolour\n",
    "Virginica\n",
    "\n",
    "![alt text](iris_petal_sepal.png \"Title\")\n"
   ]
  },
  {
   "cell_type": "code",
   "execution_count": null,
   "id": "bcacfe93-0c39-4377-a767-018294ececfe",
   "metadata": {},
   "outputs": [],
   "source": [
    "import pandas as pd"
   ]
  },
  {
   "cell_type": "code",
   "execution_count": null,
   "id": "85ebb2e8-dcef-4010-aef7-8d7ca2605076",
   "metadata": {},
   "outputs": [],
   "source": [
    "%matplotlib inline\n",
    "import matplotlib.pyplot as plt\n",
    "digits = load_digits()"
   ]
  },
  {
   "cell_type": "code",
   "execution_count": null,
   "id": "c33b278d-2763-43a6-aeb1-df5647951e39",
   "metadata": {},
   "outputs": [],
   "source": []
  }
 ],
 "metadata": {
  "kernelspec": {
   "display_name": "",
   "name": ""
  },
  "language_info": {
   "name": ""
  }
 },
 "nbformat": 4,
 "nbformat_minor": 5
}
